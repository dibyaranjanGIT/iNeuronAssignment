{
 "cells": [
  {
   "cell_type": "markdown",
   "metadata": {},
   "source": [
    "### Write a program which will find all such numbers which are divisible by 7 but are not a multiple of 5, between 2000 and 3200 (both included). The numbers obtained should be printed  in a comma-separated sequence on a single line."
   ]
  },
  {
   "cell_type": "code",
   "execution_count": 70,
   "metadata": {},
   "outputs": [],
   "source": [
    "li = ''\n",
    "for i in range(2000,3201):\n",
    "    #li = ''\n",
    "    if i % 7 == 0 :\n",
    "        if i % 5 != 0 :\n",
    "            li =  str(i) + ',' + li         "
   ]
  },
  {
   "cell_type": "code",
   "execution_count": 71,
   "metadata": {},
   "outputs": [
    {
     "data": {
      "text/plain": [
       "'3199,3192,3178,3171,3164,3157,3143,3136,3129,3122,3108,3101,3094,3087,3073,3066,3059,3052,3038,3031,3024,3017,3003,2996,2989,2982,2968,2961,2954,2947,2933,2926,2919,2912,2898,2891,2884,2877,2863,2856,2849,2842,2828,2821,2814,2807,2793,2786,2779,2772,2758,2751,2744,2737,2723,2716,2709,2702,2688,2681,2674,2667,2653,2646,2639,2632,2618,2611,2604,2597,2583,2576,2569,2562,2548,2541,2534,2527,2513,2506,2499,2492,2478,2471,2464,2457,2443,2436,2429,2422,2408,2401,2394,2387,2373,2366,2359,2352,2338,2331,2324,2317,2303,2296,2289,2282,2268,2261,2254,2247,2233,2226,2219,2212,2198,2191,2184,2177,2163,2156,2149,2142,2128,2121,2114,2107,2093,2086,2079,2072,2058,2051,2044,2037,2023,2016,2009,2002,'"
      ]
     },
     "execution_count": 71,
     "metadata": {},
     "output_type": "execute_result"
    }
   ],
   "source": [
    "li"
   ]
  },
  {
   "cell_type": "code",
   "execution_count": null,
   "metadata": {},
   "outputs": [],
   "source": []
  },
  {
   "cell_type": "markdown",
   "metadata": {},
   "source": [
    "### Write a Python program to accept the user's first and last name and then getting them printed in the the reverse order with a space between first name and last name. \n"
   ]
  },
  {
   "cell_type": "code",
   "execution_count": 39,
   "metadata": {},
   "outputs": [
    {
     "name": "stdout",
     "output_type": "stream",
     "text": [
      "Please provide your first name: Dibyaranjan\n",
      "Please provide your last name: Jena\n",
      "Your full name is Dibyaranjan Jena\n",
      "Your full name in reverse is aneJ najnaraybiD\n"
     ]
    }
   ],
   "source": [
    "fname = input(\"Please provide your first name: \")\n",
    "lname = input(\"Please provide your last name: \")\n",
    "full_name = fname+ ' ' + lname\n",
    "print(\"Your full name is {}\".format(full_name))\n",
    "reverse_name = full_name[::-1]\n",
    "print(\"Your full name in reverse is {}\".format(reverse_name))"
   ]
  },
  {
   "cell_type": "code",
   "execution_count": 38,
   "metadata": {},
   "outputs": [
    {
     "data": {
      "text/plain": [
       "'aneJ najnaraybiD'"
      ]
     },
     "execution_count": 38,
     "metadata": {},
     "output_type": "execute_result"
    }
   ],
   "source": [
    "full_name[::-1]"
   ]
  },
  {
   "cell_type": "markdown",
   "metadata": {},
   "source": [
    "### Write a Python program to find the volume of a sphere with diameter 12 cm.Formula: V=4/3 * π * r 3"
   ]
  },
  {
   "cell_type": "code",
   "execution_count": 41,
   "metadata": {},
   "outputs": [],
   "source": [
    "import math"
   ]
  },
  {
   "cell_type": "code",
   "execution_count": 42,
   "metadata": {},
   "outputs": [
    {
     "data": {
      "text/plain": [
       "3.141592653589793"
      ]
     },
     "execution_count": 42,
     "metadata": {},
     "output_type": "execute_result"
    }
   ],
   "source": [
    "math.pi"
   ]
  },
  {
   "cell_type": "code",
   "execution_count": 43,
   "metadata": {},
   "outputs": [],
   "source": [
    "def sphere_volume(radius):\n",
    "    π = math.pi\n",
    "    V=4/3 * π * radius**3\n",
    "    print('The volume of the sphere is {}'.format(V))"
   ]
  },
  {
   "cell_type": "code",
   "execution_count": 44,
   "metadata": {},
   "outputs": [
    {
     "name": "stdout",
     "output_type": "stream",
     "text": [
      "The volume of the sphere is 33.510321638291124\n"
     ]
    }
   ],
   "source": [
    "sphere_volume(2)"
   ]
  },
  {
   "cell_type": "code",
   "execution_count": null,
   "metadata": {},
   "outputs": [],
   "source": []
  }
 ],
 "metadata": {
  "kernelspec": {
   "display_name": "DS",
   "language": "python",
   "name": "ds"
  },
  "language_info": {
   "codemirror_mode": {
    "name": "ipython",
    "version": 3
   },
   "file_extension": ".py",
   "mimetype": "text/x-python",
   "name": "python",
   "nbconvert_exporter": "python",
   "pygments_lexer": "ipython3",
   "version": "3.7.9"
  }
 },
 "nbformat": 4,
 "nbformat_minor": 4
}
